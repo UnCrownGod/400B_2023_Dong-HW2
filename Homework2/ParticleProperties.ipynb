{
 "cells": [
  {
   "cell_type": "code",
   "execution_count": 1,
   "id": "b2656c8e",
   "metadata": {},
   "outputs": [],
   "source": [
    "# import all packages we need in the following code\n",
    "import numpy as np\n",
    "import astropy.units as u\n",
    "from ReadFile import Read"
   ]
  },
  {
   "cell_type": "code",
   "execution_count": 2,
   "id": "ea1e4940",
   "metadata": {},
   "outputs": [],
   "source": [
    "def ParticleInfo(file_name, particle_type, particle_number):\n",
    "    '''\n",
    "    Goal: This function take some input(as below) and return some property(as below) of any given particle of any\n",
    "        given type(Disk, Halo, etc).\n",
    "    \n",
    "    Input: total of 3 inputs, listed below\n",
    "        file_name (str) -- the name of data file, used to locate file and open\n",
    "        particle_type (int) -- an int shows the type of particle (type 1 = dark matter, 2 = disk, 3 = bulge)\n",
    "        particle_number (int) -- an int shows the total number of particle\n",
    "    \n",
    "    Output: total of 3 outputs, listed below\n",
    "        mag_distance -- magnitude of distance, unit kpc\n",
    "        mag_velocity -- magnitude of velocity, unit in km/s\n",
    "        mass -- mass of particle, unit in solar mass\n",
    "    '''\n",
    "    # read file, get output of previous function\n",
    "    time, total_particles, data = Read(file_name)\n",
    "    \n",
    "    # use array to store indexes of particle type\n",
    "    index = np.where(data['type'] == particle_type)\n",
    "    \n",
    "    # use arrays to store x, y, z, vx, vy, vz and mass of particle based on given particle_number\n",
    "    x = data['x'][index][particle_number - 1]# locate x based on particle number\n",
    "    y = data['y'][index][particle_number - 1]# locate y based on particle number\n",
    "    z = data['z'][index][particle_number - 1]# locate z based on particle number\n",
    "    vx = data['vx'][index][particle_number - 1]# locate vx based on particle number\n",
    "    vy = data['vy'][index][particle_number - 1]# locate vy based on particle number\n",
    "    vz = data['vz'][index][particle_number - 1]# locate vz based on particle number\n",
    "    mass = data['m'][index][particle_number - 1]# locate mass based on particle number\n",
    "    \n",
    "    # get the magnitude of distance(x,y,z), get the magnitude of velocity(vx,vy,vz), get mass in solar mass\n",
    "    # apply unit to mag_distance, mag_velocity, mass\n",
    "    \n",
    "    mag_distance = np.round(np.sqrt(x ** 2 + y ** 2 + z ** 2), 3) * u.kpc\n",
    "    mag_velocity = np.round(np.sqrt(vx ** 2 + vy ** 2 + vz ** 2), 3) * u.km/u.s\n",
    "    mass = mass * 1e10 * u.Msun\n",
    "    \n",
    "    return mag_distance, mag_velocity, mass# return the output\n",
    "    "
   ]
  },
  {
   "cell_type": "code",
   "execution_count": 5,
   "id": "e86d1501",
   "metadata": {},
   "outputs": [
    {
     "name": "stdout",
     "output_type": "stream",
     "text": [
      "Based on the particle number you select\n",
      "the magnitude of distance is：  13845.338 lyr \n",
      "magnitude of velocity is:  312.135 km / s \n",
      "mass is:  1000000.0 solMass\n"
     ]
    }
   ],
   "source": [
    "# use tuple, call the ParticleInfo function\n",
    "mag_distance, mag_velocity, mass = ParticleInfo('MW_000.txt', 2., 100)\n",
    "\n",
    "# print out the result\n",
    "print('Based on the particle number you select\\nthe magnitude of distance is： ', np.round(mag_distance.to(u.lyr), 3) ,'\\nmagnitude of velocity is: ' , mag_velocity, '\\nmass is: ' ,mass)"
   ]
  },
  {
   "cell_type": "code",
   "execution_count": 4,
   "id": "4069a818",
   "metadata": {},
   "outputs": [
    {
     "data": {
      "text/latex": [
       "$4.245 \\; \\mathrm{kpc}$"
      ],
      "text/plain": [
       "<Quantity 4.245 kpc>"
      ]
     },
     "execution_count": 4,
     "metadata": {},
     "output_type": "execute_result"
    }
   ],
   "source": []
  },
  {
   "cell_type": "raw",
   "id": "6a772279",
   "metadata": {},
   "source": []
  }
 ],
 "metadata": {
  "kernelspec": {
   "display_name": "Python 3",
   "language": "python",
   "name": "python3"
  },
  "language_info": {
   "codemirror_mode": {
    "name": "ipython",
    "version": 3
   },
   "file_extension": ".py",
   "mimetype": "text/x-python",
   "name": "python",
   "nbconvert_exporter": "python",
   "pygments_lexer": "ipython3",
   "version": "3.8.8"
  }
 },
 "nbformat": 4,
 "nbformat_minor": 5
}
